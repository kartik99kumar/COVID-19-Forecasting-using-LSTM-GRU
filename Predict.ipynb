{
 "cells": [
  {
   "cell_type": "code",
   "execution_count": 2,
   "metadata": {},
   "outputs": [],
   "source": [
    "import tensorflow as tf\n",
    "import csv\n",
    "import pandas as pd\n",
    "import numpy as np"
   ]
  },
  {
   "cell_type": "code",
   "execution_count": 3,
   "metadata": {},
   "outputs": [],
   "source": [
    "def make_data(series,window_size):\n",
    "    \n",
    "    data=[]\n",
    "    labels=[]\n",
    "\n",
    "    for i in range(len(series)-window_size):\n",
    "        temp=series[i:i+window_size+1]\n",
    "        data.append(temp[:window_size])\n",
    "        labels.append(temp[window_size:,0])\n",
    "\n",
    "    return np.array(data),np.array(labels)"
   ]
  },
  {
   "cell_type": "code",
   "execution_count": 4,
   "metadata": {},
   "outputs": [],
   "source": [
    "def predict(data_path='nation_level_daily_latest.csv',model_path='saved_model/national_model'):\n",
    "    \n",
    "    model = tf.keras.models.load_model(model_path)\n",
    "    df=pd.read_csv(data_path)\n",
    "    df=df.fillna(method ='pad') \n",
    "    features=[\"Total Confirmed\",\"Total Recovered\",\"Total Deceased\"]\n",
    "    df=df[features]\n",
    "    series=df.values[::]\n",
    "    series=series.astype(\"float64\")\n",
    "    \n",
    "    window_size=7\n",
    "    batch_size=32\n",
    "    \n",
    "    test_series=series[-(window_size+7):]\n",
    "    test_data,test_labels=make_data(test_series,window_size)\n",
    "    test_dataset = tf.data.Dataset.from_tensor_slices((test_data, test_labels))\n",
    "    test_dataset=test_dataset.batch(batch_size)\n",
    "    \n",
    "    pred=model.predict(test_data)\n",
    "    \n",
    "    return pred"
   ]
  },
  {
   "cell_type": "code",
   "execution_count": 5,
   "metadata": {},
   "outputs": [
    {
     "name": "stdout",
     "output_type": "stream",
     "text": [
      "[[309610.80023395]\n",
      " [321477.02376819]\n",
      " [334075.67693381]\n",
      " [345279.90062925]\n",
      " [355508.88551092]\n",
      " [367044.03411015]\n",
      " [380878.22008423]]\n"
     ]
    }
   ],
   "source": [
    "print(predict())"
   ]
  },
  {
   "cell_type": "code",
   "execution_count": null,
   "metadata": {},
   "outputs": [],
   "source": []
  }
 ],
 "metadata": {
  "kernelspec": {
   "display_name": "Python 3",
   "language": "python",
   "name": "python3"
  },
  "language_info": {
   "codemirror_mode": {
    "name": "ipython",
    "version": 3
   },
   "file_extension": ".py",
   "mimetype": "text/x-python",
   "name": "python",
   "nbconvert_exporter": "python",
   "pygments_lexer": "ipython3",
   "version": "3.8.2"
  }
 },
 "nbformat": 4,
 "nbformat_minor": 4
}
